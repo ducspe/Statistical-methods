{
 "cells": [
  {
   "cell_type": "markdown",
   "metadata": {},
   "source": [
    "### Hypothesis Testing for Olympics 2012 Data\n",
    "\n",
    "Danu Caus, Massimo Innocentini and Nambiar Shruti Surendrakumar"
   ]
  },
  {
   "cell_type": "code",
   "execution_count": 17,
   "metadata": {
    "collapsed": true
   },
   "outputs": [],
   "source": [
    "# Importing required libraries\n",
    "import math\n",
    "from scipy import stats\n",
    "from scipy.stats import distributions as dists\n",
    "import pandas as pd\n",
    "import numpy as np\n",
    "import matplotlib.pyplot as plt\n",
    "\n",
    "%matplotlib inline\n",
    "\n",
    "np.random.seed(1234567)"
   ]
  },
  {
   "cell_type": "code",
   "execution_count": 18,
   "metadata": {
    "collapsed": false
   },
   "outputs": [
    {
     "data": {
      "text/html": [
       "<div>\n",
       "<style scoped>\n",
       "    .dataframe tbody tr th:only-of-type {\n",
       "        vertical-align: middle;\n",
       "    }\n",
       "\n",
       "    .dataframe tbody tr th {\n",
       "        vertical-align: top;\n",
       "    }\n",
       "\n",
       "    .dataframe thead th {\n",
       "        text-align: right;\n",
       "    }\n",
       "</style>\n",
       "<table border=\"1\" class=\"dataframe\">\n",
       "  <thead>\n",
       "    <tr style=\"text-align: right;\">\n",
       "      <th></th>\n",
       "      <th>ISO</th>\n",
       "      <th>GDP.2011</th>\n",
       "      <th>pop.2010</th>\n",
       "      <th>Country name</th>\n",
       "      <th>NOC</th>\n",
       "      <th>F.2012</th>\n",
       "      <th>M.2012</th>\n",
       "      <th>NOC SIZE</th>\n",
       "      <th>NOC.Size.Per.100K.pop</th>\n",
       "      <th>Gold</th>\n",
       "      <th>...</th>\n",
       "      <th>Population rank score</th>\n",
       "      <th>Athlete rank score</th>\n",
       "      <th>Official medal ranking</th>\n",
       "      <th>GDP rank</th>\n",
       "      <th>Pop rank</th>\n",
       "      <th>Team size rank</th>\n",
       "      <th>Unnamed: 44</th>\n",
       "      <th>Total medal score (gold=3, silver =2, bronze=1)</th>\n",
       "      <th>Model-based score</th>\n",
       "      <th>Model-based rank</th>\n",
       "    </tr>\n",
       "  </thead>\n",
       "  <tbody>\n",
       "    <tr>\n",
       "      <th>0</th>\n",
       "      <td>USA</td>\n",
       "      <td>1.509400e+13</td>\n",
       "      <td>309349000</td>\n",
       "      <td>US</td>\n",
       "      <td>USA</td>\n",
       "      <td>271</td>\n",
       "      <td>260</td>\n",
       "      <td>531</td>\n",
       "      <td>0.171651</td>\n",
       "      <td>46</td>\n",
       "      <td>...</td>\n",
       "      <td>9.6</td>\n",
       "      <td>62.78</td>\n",
       "      <td>1</td>\n",
       "      <td>66</td>\n",
       "      <td>47</td>\n",
       "      <td>5</td>\n",
       "      <td>NaN</td>\n",
       "      <td>225</td>\n",
       "      <td>-0.725821</td>\n",
       "      <td>107</td>\n",
       "    </tr>\n",
       "    <tr>\n",
       "      <th>1</th>\n",
       "      <td>CHN</td>\n",
       "      <td>7.298100e+12</td>\n",
       "      <td>1338300000</td>\n",
       "      <td>China</td>\n",
       "      <td>CHN</td>\n",
       "      <td>208</td>\n",
       "      <td>163</td>\n",
       "      <td>371</td>\n",
       "      <td>0.027722</td>\n",
       "      <td>38</td>\n",
       "      <td>...</td>\n",
       "      <td>1.7</td>\n",
       "      <td>76.09</td>\n",
       "      <td>2</td>\n",
       "      <td>54</td>\n",
       "      <td>73</td>\n",
       "      <td>1</td>\n",
       "      <td>NaN</td>\n",
       "      <td>191</td>\n",
       "      <td>-1.173997</td>\n",
       "      <td>125</td>\n",
       "    </tr>\n",
       "    <tr>\n",
       "      <th>2</th>\n",
       "      <td>RUS</td>\n",
       "      <td>1.857770e+12</td>\n",
       "      <td>141750000</td>\n",
       "      <td>Russia</td>\n",
       "      <td>RUS</td>\n",
       "      <td>227</td>\n",
       "      <td>208</td>\n",
       "      <td>435</td>\n",
       "      <td>0.306878</td>\n",
       "      <td>24</td>\n",
       "      <td>...</td>\n",
       "      <td>15.2</td>\n",
       "      <td>50.56</td>\n",
       "      <td>3</td>\n",
       "      <td>36</td>\n",
       "      <td>34</td>\n",
       "      <td>8</td>\n",
       "      <td>NaN</td>\n",
       "      <td>156</td>\n",
       "      <td>-5.829173</td>\n",
       "      <td>169</td>\n",
       "    </tr>\n",
       "    <tr>\n",
       "      <th>3</th>\n",
       "      <td>GBR</td>\n",
       "      <td>2.431590e+12</td>\n",
       "      <td>62232000</td>\n",
       "      <td>UK</td>\n",
       "      <td>GBR</td>\n",
       "      <td>269</td>\n",
       "      <td>287</td>\n",
       "      <td>556</td>\n",
       "      <td>0.893431</td>\n",
       "      <td>29</td>\n",
       "      <td>...</td>\n",
       "      <td>29.6</td>\n",
       "      <td>37.36</td>\n",
       "      <td>4</td>\n",
       "      <td>40</td>\n",
       "      <td>20</td>\n",
       "      <td>13</td>\n",
       "      <td>NaN</td>\n",
       "      <td>140</td>\n",
       "      <td>-0.104260</td>\n",
       "      <td>56</td>\n",
       "    </tr>\n",
       "    <tr>\n",
       "      <th>4</th>\n",
       "      <td>DEU</td>\n",
       "      <td>3.570560e+12</td>\n",
       "      <td>81777000</td>\n",
       "      <td>Germany</td>\n",
       "      <td>GER</td>\n",
       "      <td>176</td>\n",
       "      <td>219</td>\n",
       "      <td>395</td>\n",
       "      <td>0.483021</td>\n",
       "      <td>11</td>\n",
       "      <td>...</td>\n",
       "      <td>14.9</td>\n",
       "      <td>29.96</td>\n",
       "      <td>5</td>\n",
       "      <td>55</td>\n",
       "      <td>35</td>\n",
       "      <td>19</td>\n",
       "      <td>NaN</td>\n",
       "      <td>85</td>\n",
       "      <td>-0.412898</td>\n",
       "      <td>90</td>\n",
       "    </tr>\n",
       "  </tbody>\n",
       "</table>\n",
       "<p>5 rows × 48 columns</p>\n",
       "</div>"
      ],
      "text/plain": [
       "   ISO      GDP.2011    pop.2010 Country name  NOC  F.2012  M.2012  NOC SIZE  \\\n",
       "0  USA  1.509400e+13   309349000           US  USA     271     260       531   \n",
       "1  CHN  7.298100e+12  1338300000        China  CHN     208     163       371   \n",
       "2  RUS  1.857770e+12   141750000       Russia  RUS     227     208       435   \n",
       "3  GBR  2.431590e+12    62232000           UK  GBR     269     287       556   \n",
       "4  DEU  3.570560e+12    81777000      Germany  GER     176     219       395   \n",
       "\n",
       "   NOC.Size.Per.100K.pop  Gold        ...         Population rank score  \\\n",
       "0               0.171651    46        ...                           9.6   \n",
       "1               0.027722    38        ...                           1.7   \n",
       "2               0.306878    24        ...                          15.2   \n",
       "3               0.893431    29        ...                          29.6   \n",
       "4               0.483021    11        ...                          14.9   \n",
       "\n",
       "   Athlete rank score  Official medal ranking  GDP rank  Pop rank  \\\n",
       "0               62.78                       1        66        47   \n",
       "1               76.09                       2        54        73   \n",
       "2               50.56                       3        36        34   \n",
       "3               37.36                       4        40        20   \n",
       "4               29.96                       5        55        35   \n",
       "\n",
       "   Team size rank  Unnamed: 44  \\\n",
       "0               5          NaN   \n",
       "1               1          NaN   \n",
       "2               8          NaN   \n",
       "3              13          NaN   \n",
       "4              19          NaN   \n",
       "\n",
       "   Total medal score (gold=3, silver =2, bronze=1)  Model-based score  \\\n",
       "0                                              225          -0.725821   \n",
       "1                                              191          -1.173997   \n",
       "2                                              156          -5.829173   \n",
       "3                                              140          -0.104260   \n",
       "4                                               85          -0.412898   \n",
       "\n",
       "   Model-based rank  \n",
       "0               107  \n",
       "1               125  \n",
       "2               169  \n",
       "3                56  \n",
       "4                90  \n",
       "\n",
       "[5 rows x 48 columns]"
      ]
     },
     "execution_count": 18,
     "metadata": {},
     "output_type": "execute_result"
    }
   ],
   "source": [
    "# Reading the data\n",
    "df = pd.read_excel('London 2012 Olympic alternative medal rankings.xlsx')\n",
    "df.head()"
   ]
  },
  {
   "cell_type": "markdown",
   "metadata": {},
   "source": [
    "### Hypothesis 1\n",
    "\n",
    "We want to test that the average winning medal was more than 4 per country. Hence our NULL hypothesis is:\n",
    "H0 = 4\n",
    "\n",
    "And the alternative hypothesis is:\n",
    "Ha > 4\n",
    "\n",
    "We are going to set the significance level at p < 0.05\n",
    "\n",
    "We are going to run a one sample Z-Test to gather evidence. We will take a sample size of 30 countries and compare their mean with the population mean. Initially however we're going to \"normalize\" the data by randomly sampling the total medals of 100 countries and store the mean."
   ]
  },
  {
   "cell_type": "code",
   "execution_count": 19,
   "metadata": {
    "collapsed": false
   },
   "outputs": [
    {
     "name": "stdout",
     "output_type": "stream",
     "text": [
      "Population stats:\n",
      "Mean: 4.69158\n",
      "Median: 4.65\n",
      "SDev: 0.966127375508 \n",
      "\n",
      "Z-Score: S100    3.010376\n",
      "dtype: float64\n",
      "P-Value: [ 0.00130462]\n"
     ]
    },
    {
     "data": {
      "image/png": "[encoded data removed]",
      "text/plain": [
       "<matplotlib.figure.Figure at 0x217ff9f39e8>"
      ]
     },
     "metadata": {},
     "output_type": "display_data"
    },
    {
     "data": {
      "image/png": "[encoded data removed]",
      "text/plain": [
       "<matplotlib.figure.Figure at 0x217ff9f87b8>"
      ]
     },
     "metadata": {},
     "output_type": "display_data"
    }
   ],
   "source": [
    "df_clt = pd.DataFrame(columns=['S100'])\n",
    "for i in range(1000):\n",
    "    df_clt.loc[i] = [df['Total'].sample(n=100).mean()]\n",
    "    \n",
    "plt.hist(df_clt['S100'])\n",
    "pop_mean = df_clt['S100'].mean()\n",
    "pop_median = df_clt['S100'].median()\n",
    "pop_sdev = df_clt['S100'].std()\n",
    "print(\"Population stats:\")\n",
    "print('Mean:', pop_mean)\n",
    "print('Median:', pop_median)\n",
    "print('SDev:', pop_sdev, \"\\n\")\n",
    "\n",
    "# Now we can assume our data is normally distributed and proceed to sample our data\n",
    "sample = df_clt.sample(n=30)\n",
    "ax = sample.plot.hist(bins=10, range=(0,8))\n",
    "ax.set_xlabel(\"Total Medals Won\")\n",
    "ax.set_ylabel(\"Frequency\")\n",
    "\n",
    "# From the sample extracted we can now compute the Z-Score.\n",
    "z = (sample.mean() - 4) / (pop_sdev / np.sqrt(len(sample)))\n",
    "print('Z-Score:', z) \n",
    "print('P-Value:',(stats.norm.sf(abs(z))))"
   ]
  },
  {
   "cell_type": "markdown",
   "metadata": {},
   "source": [
    "Now we have both the Z-Score and the P-Value. \n",
    "It is a one sided test hence we are only interested in the right tail.\n",
    "The P-Value in this case indicates the probability that a country wins at least 4.6 medals (the mean of the populatino of total medals won).\n",
    "At the beginning we decided on a P-value of < 0.05 hence in one instance we had a P = 0.0031, in that case we could reject the null hypothesis and state that evidence suggest that each country in average does indeed win more than 4 medals."
   ]
  },
  {
   "cell_type": "markdown",
   "metadata": {},
   "source": [
    "### Hypothesis 2\n",
    "\n",
    "H0: In case of all teams that received at least one medal: Female vs Team Size Ratio does NOT influence the Bronze vs Total Medals Ratio\n",
    "\n",
    "H1: In case of all teams that received at least one medal: Female vs Team Size Ratio has an impact on the Bronze vs Total Medals Ratio\n",
    "\n",
    "These ratios were chosen to be the random variables X and Y because they are the only ones that follow a normal distribution in the given excel file. This factor is important in order to be able to apply \"Fisher's transform\""
   ]
  },
  {
   "cell_type": "code",
   "execution_count": 20,
   "metadata": {
    "collapsed": false
   },
   "outputs": [
    {
     "name": "stdout",
     "output_type": "stream",
     "text": [
      "At least one medal count sample size:  85\n",
      "Females to total team size ratio is normal distribution\n",
      "Bronze Medal Count / Total nr of medals ratio is normal distribution\n",
      "count    85.000000\n",
      "mean      0.405558\n",
      "std       0.129589\n",
      "min       0.071429\n",
      "25%       0.312500\n",
      "50%       0.425000\n",
      "75%       0.483813\n",
      "max       0.727273\n",
      "dtype: float64\n",
      "count    85.000000\n",
      "mean      0.438091\n",
      "std       0.297313\n",
      "min       0.000000\n",
      "25%       0.261364\n",
      "50%       0.416667\n",
      "75%       0.600000\n",
      "max       1.000000\n",
      "dtype: float64\n"
     ]
    },
    {
     "data": {
      "text/plain": [
       "(array([ 14.,   9.,  22.,  17.,   9.,   3.,  11.]),\n",
       " array([ 0.        ,  0.14285714,  0.28571429,  0.42857143,  0.57142857,\n",
       "         0.71428571,  0.85714286,  1.        ]),\n",
       " <a list of 7 Patch objects>)"
      ]
     },
     "execution_count": 20,
     "metadata": {},
     "output_type": "execute_result"
    },
    {
     "data": {
      "image/png": "[encoded data removed]",
      "text/plain": [
       "<matplotlib.figure.Figure at 0x217ff9f15f8>"
      ]
     },
     "metadata": {},
     "output_type": "display_data"
    }
   ],
   "source": [
    "# To strip the columns with 0 total medal count, so as to not divide by 0 later on\n",
    "df_rm = df[df['Total']>0]\n",
    "print(\"At least one medal count sample size: \", len(df_rm))\n",
    "\n",
    "# nr of females / total team size\n",
    "df_ftsratio = df_rm['F.2012']/df_rm['NOC SIZE'] \n",
    "\n",
    "# Check for normalcy\n",
    "z1, pval1 = stats.mstats.normaltest(df_ftsratio.values) \n",
    "\n",
    "desc = \"Females to total team size ratio is\"\n",
    "if pval1 < 0.055:\n",
    "    print(desc, \"not normal distribution\")\n",
    "else:\n",
    "    print(desc, \"normal distribution\")\n",
    "    \n",
    "# Bronze Medal Count / Total nr of medals\n",
    "df_btmratio = df_rm['Bronze.Per.100K.pop']/df_rm['Total.Per.100K.pop'] \n",
    "\n",
    "z2, pval2 = stats.mstats.normaltest(df_btmratio.values) # Check for normalcy\n",
    "\n",
    "desc = \"Bronze Medal Count / Total nr of medals ratio is\"\n",
    "if pval2 < 0.055:\n",
    "    print(desc, \"not normal distribution\")\n",
    "else:\n",
    "    print(desc, \"normal distribution\")\n",
    "    \n",
    "print(df_ftsratio.describe())\n",
    "print(df_btmratio.describe())\n",
    "\n",
    "fig, axs = plt.subplots(1,2,figsize=(15,5))\n",
    "axs[0].hist(df_ftsratio, bins=7)\n",
    "axs[1].hist(df_btmratio, bins=7)"
   ]
  },
  {
   "cell_type": "markdown",
   "metadata": {},
   "source": [
    "Because we are dealing with 2 normally distributed random variables, we can apply the \"Fisher's transform\""
   ]
  },
  {
   "cell_type": "code",
   "execution_count": 21,
   "metadata": {
    "collapsed": false
   },
   "outputs": [
    {
     "name": "stdout",
     "output_type": "stream",
     "text": [
      "correlation= -0.0984936628005\n",
      "ze= -0.09881402530774326\n",
      "confidence= 0.460642966205\n"
     ]
    },
    {
     "data": {
      "image/png": "[encoded data removed]",
      "text/plain": [
       "<matplotlib.figure.Figure at 0x217ff6cd7b8>"
      ]
     },
     "metadata": {},
     "output_type": "display_data"
    }
   ],
   "source": [
    "# Calculate Pearson's Correlation Factor\n",
    "correlation = df_ftsratio.corr(df_btmratio, method='pearson')\n",
    "print(\"correlation=\",correlation)\n",
    "\n",
    "# We can see they are uncorrelated. Let's plot to convince ourselves:\n",
    "plt.scatter(df_ftsratio, df_btmratio, c=['red', 'green'])\n",
    "\n",
    "# Fisher's transform; log stands for ln here\n",
    "ze = 0.5 * math.log((1+correlation)/(1-correlation))\n",
    "print(\"ze=\", ze)\n",
    "\n",
    "# We are -0.098 standard deviations from the \"true\" mean\n",
    "confidence = stats.norm.cdf(ze) \n",
    "print(\"confidence=\",confidence)"
   ]
  },
  {
   "cell_type": "markdown",
   "metadata": {},
   "source": [
    "The ze value implies that: H0 falls in the 95% confidence range, so we accept H0.\n",
    "Female vs Team Size Ratio does NOT influence the Bronze vs Total Medals Ratio"
   ]
  },
  {
   "cell_type": "markdown",
   "metadata": {},
   "source": [
    "### Hypothesis 3 \n",
    "\n",
    "We want to test the (alternative) hypothesis that the average number of male atheletes for non-EU countries differs from the overall average. The null hypothesis is that there is no difference between the averages.\n",
    "\n",
    "A one-sample t-test is used here to check whether the sample mean differs from the population mean. We conduct the test at a 95% confidence level to see if we can reject the null hypothesis.\n",
    "\n",
    "Note - ISO codes source: http://www23.statcan.gc.ca/imdb/p3VD.pl?Function=getVD&TVD=141329 "
   ]
  },
  {
   "cell_type": "code",
   "execution_count": 22,
   "metadata": {
    "collapsed": false
   },
   "outputs": [
    {
     "name": "stdout",
     "output_type": "stream",
     "text": [
      "Non-EU sample size 176\n"
     ]
    }
   ],
   "source": [
    "eu_iso_list = ['AUT', 'BEL', 'BGR', 'HRV', 'CYP', 'CZE', 'DNK', 'EST', 'FIN', 'FRA', 'DEU', 'GRC', 'HUN', 'IRL', \n",
    "               'ITA', 'LVA', 'LTU', 'LUX', 'MLT', 'NLD', 'POL', 'PRT', 'ROU', 'SVK', 'SVN', 'ESP', 'SWE', 'GBR']\n",
    "\n",
    "non_eu_ma =  df[~df['ISO'].isin(eu_iso_list)]['M.2012']\n",
    "pop_ma = df['M.2012']\n",
    "\n",
    "print(\"Non-EU sample size\", len(non_eu_ma))"
   ]
  },
  {
   "cell_type": "markdown",
   "metadata": {},
   "source": [
    "We can check the quantiles of the t-distribution corresponding to our confidence level and degrees of freedom:"
   ]
  },
  {
   "cell_type": "code",
   "execution_count": 23,
   "metadata": {
    "collapsed": false
   },
   "outputs": [
    {
     "name": "stdout",
     "output_type": "stream",
     "text": [
      "-1.97361246195 1.97361246195\n"
     ]
    }
   ],
   "source": [
    "print(stats.t.ppf(q=0.025, df=175), stats.t.ppf(q=0.975, df=175)) #two-tailed"
   ]
  },
  {
   "cell_type": "code",
   "execution_count": 24,
   "metadata": {
    "collapsed": false
   },
   "outputs": [
    {
     "data": {
      "text/plain": [
       "Ttest_1sampResult(statistic=-2.4138090805152563, pvalue=0.016817946502217403)"
      ]
     },
     "execution_count": 24,
     "metadata": {},
     "output_type": "execute_result"
    }
   ],
   "source": [
    "stats.ttest_1samp(a= non_eu_ma, popmean= pop_ma.mean()) "
   ]
  },
  {
   "cell_type": "markdown",
   "metadata": {},
   "source": [
    "The test statistic t= -2.4138 tells us how much the sample mean deviates from the null hypothesis. If the t-statistic falls outside the quantiles of the t-distribution corresponding to our confidence level and degrees of freedom, we reject the null hypothesis. \n",
    "\n",
    "A p-value of 0.01681 means we'd expect to see data as extreme as our sample due to chance about 1.6% of the time if the null hypothesis was true. \n",
    "\n",
    "In this case, the test statistic falls outside the quantiles of the t-distribution and the p-value is lower than our significance level α=0.05, so we should reject the null hypothesis that there is no difference in the mean number of male athetheltes between the Non-EU sample and the overall population."
   ]
  },
  {
   "cell_type": "markdown",
   "metadata": {},
   "source": [
    "### Hypothesis 4\n",
    "\n",
    "We would like to test the hypothesis that there is a difference in the total medal count when this count is adjusted for GDP compared to when it's adjusted for Population. \n",
    "\n",
    "The null hypothesis is that there is no difference between the two types of medal counts. \n",
    "\n",
    "A level of significance of 0.05 is chosen."
   ]
  },
  {
   "cell_type": "code",
   "execution_count": 25,
   "metadata": {
    "collapsed": false
   },
   "outputs": [
    {
     "data": {
      "text/html": [
       "<div>\n",
       "<style scoped>\n",
       "    .dataframe tbody tr th:only-of-type {\n",
       "        vertical-align: middle;\n",
       "    }\n",
       "\n",
       "    .dataframe tbody tr th {\n",
       "        vertical-align: top;\n",
       "    }\n",
       "\n",
       "    .dataframe thead th {\n",
       "        text-align: right;\n",
       "    }\n",
       "</style>\n",
       "<table border=\"1\" class=\"dataframe\">\n",
       "  <thead>\n",
       "    <tr style=\"text-align: right;\">\n",
       "      <th></th>\n",
       "      <th>Difference</th>\n",
       "      <th>Total.GDP</th>\n",
       "      <th>Total.pop</th>\n",
       "    </tr>\n",
       "  </thead>\n",
       "  <tbody>\n",
       "    <tr>\n",
       "      <th>count</th>\n",
       "      <td>204.000000</td>\n",
       "      <td>204.000000</td>\n",
       "      <td>204.000000</td>\n",
       "    </tr>\n",
       "    <tr>\n",
       "      <th>mean</th>\n",
       "      <td>0.001373</td>\n",
       "      <td>4.716078</td>\n",
       "      <td>4.714706</td>\n",
       "    </tr>\n",
       "    <tr>\n",
       "      <th>std</th>\n",
       "      <td>8.875720</td>\n",
       "      <td>14.463057</td>\n",
       "      <td>11.528477</td>\n",
       "    </tr>\n",
       "    <tr>\n",
       "      <th>min</th>\n",
       "      <td>-29.610000</td>\n",
       "      <td>0.000000</td>\n",
       "      <td>0.000000</td>\n",
       "    </tr>\n",
       "    <tr>\n",
       "      <th>25%</th>\n",
       "      <td>0.000000</td>\n",
       "      <td>0.000000</td>\n",
       "      <td>0.000000</td>\n",
       "    </tr>\n",
       "    <tr>\n",
       "      <th>50%</th>\n",
       "      <td>0.000000</td>\n",
       "      <td>0.000000</td>\n",
       "      <td>0.000000</td>\n",
       "    </tr>\n",
       "    <tr>\n",
       "      <th>75%</th>\n",
       "      <td>0.000000</td>\n",
       "      <td>2.025000</td>\n",
       "      <td>4.150000</td>\n",
       "    </tr>\n",
       "    <tr>\n",
       "      <th>max</th>\n",
       "      <td>48.150000</td>\n",
       "      <td>123.930000</td>\n",
       "      <td>111.900000</td>\n",
       "    </tr>\n",
       "  </tbody>\n",
       "</table>\n",
       "</div>"
      ],
      "text/plain": [
       "       Difference   Total.GDP   Total.pop\n",
       "count  204.000000  204.000000  204.000000\n",
       "mean     0.001373    4.716078    4.714706\n",
       "std      8.875720   14.463057   11.528477\n",
       "min    -29.610000    0.000000    0.000000\n",
       "25%      0.000000    0.000000    0.000000\n",
       "50%      0.000000    0.000000    0.000000\n",
       "75%      0.000000    2.025000    4.150000\n",
       "max     48.150000  123.930000  111.900000"
      ]
     },
     "execution_count": 25,
     "metadata": {},
     "output_type": "execute_result"
    }
   ],
   "source": [
    "gdp_sample = df['Total.GDP']\n",
    "pop_sample = df['Total.pop']\n",
    "\n",
    "# Finding the difference between the two counts \n",
    "medal_count_df = pd.DataFrame({\"Total.GDP\" : gdp_sample,\n",
    "                               \"Total.pop\" : pop_sample,\n",
    "                               \"Difference\": gdp_sample - pop_sample})\n",
    "\n",
    "# Check a summary of the data\n",
    "medal_count_df.describe()"
   ]
  },
  {
   "cell_type": "markdown",
   "metadata": {},
   "source": [
    "The summary above shows that there is a 0.001373 difference on average between the two types of medal counts. Let's conduct a paired t-test to see whether this difference is significant at a 95% confidence level."
   ]
  },
  {
   "cell_type": "code",
   "execution_count": 26,
   "metadata": {
    "collapsed": false
   },
   "outputs": [
    {
     "name": "stdout",
     "output_type": "stream",
     "text": [
      "t-statistic: 0.0022 and p-value: 0.9982\n",
      "t-critical: 1.97171884846\n"
     ]
    }
   ],
   "source": [
    "paired_sample = stats.ttest_rel(gdp_sample, pop_sample)\n",
    "print(\"t-statistic: %.4f and p-value: %.4f\" % paired_sample)\n",
    "\n",
    "# Finding the critical t value for 0.05 signiﬁcance level and degree of freedom 203 \n",
    "tcritical = dists.t.ppf(1-0.05/2, 203) #two-tailed\n",
    "print(\"t-critical:\", tcritical)"
   ]
  },
  {
   "cell_type": "markdown",
   "metadata": {},
   "source": [
    "The t-value falls in the acceptance region i.e. between 1.9717 and -1.9717 critical t-values and the p-value = 0.9982 is higher than the chosen significance level, hence, we cannot reject reject the null hypothesis. \n",
    "\n",
    "In this context, we can say that the mean difference between the GDP adjusted medal count and the Population adjusted medal count is not significant."
   ]
  },
  {
   "cell_type": "code",
   "execution_count": null,
   "metadata": {
    "collapsed": true
   },
   "outputs": [],
   "source": []
  }
 ],
 "metadata": {
  "kernelspec": {
   "display_name": "Python [default]",
   "language": "python",
   "name": "python3"
  },
  "language_info": {
   "codemirror_mode": {
    "name": "ipython",
    "version": 3
   },
   "file_extension": ".py",
   "mimetype": "text/x-python",
   "name": "python",
   "nbconvert_exporter": "python",
   "pygments_lexer": "ipython3",
   "version": "3.5.3"
  }
 },
 "nbformat": 4,
 "nbformat_minor": 1
}
