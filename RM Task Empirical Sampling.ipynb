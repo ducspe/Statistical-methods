{
 "cells": [
  {
   "cell_type": "markdown",
   "metadata": {},
   "source": [
    "### Randomization and Bootstrapping\n",
    "\n",
    "Danu Caus, Massimo Innocentini and Nambiar Shruti Surendrakumar"
   ]
  },
  {
   "cell_type": "code",
   "execution_count": 1,
   "metadata": {
    "collapsed": false
   },
   "outputs": [],
   "source": [
    "# Importing required libraries\n",
    "import math\n",
    "from random import choice, shuffle, seed\n",
    "from scipy import stats\n",
    "from scipy.stats import distributions as dists\n",
    "import pandas as pd\n",
    "import numpy as np\n",
    "import matplotlib.pyplot as plt\n",
    "\n",
    "import scipy.stats as stat\n",
    "\n",
    "%matplotlib inline\n",
    "\n",
    "np.random.seed(1234567)\n",
    "seed(1234567)"
   ]
  },
  {
   "cell_type": "markdown",
   "metadata": {},
   "source": [
    "### 1. Randomization on caffiene finger tap data\n",
    "\n",
    "The null hypothesis states that the median number of taps is the same for both caffiene and no-caffiene samples i.e. two samples come from a population with the same median.\n",
    "\n",
    "H0: median0 = median1 \n",
    "\n",
    "The alternative hypothesis states that there is a difference in the median number of taps between the caffiene and no-caffiene samples.\n",
    "\n",
    "H1: median0 != median1 "
   ]
  },
  {
   "cell_type": "code",
   "execution_count": 2,
   "metadata": {
    "collapsed": false
   },
   "outputs": [
    {
     "name": "stdout",
     "output_type": "stream",
     "text": [
      "CAFFIENE \n",
      "              Taps\n",
      "count   10.000000\n",
      "mean   248.300000\n",
      "std      2.213594\n",
      "min    245.000000\n",
      "25%    246.500000\n",
      "50%    248.000000\n",
      "75%    250.000000\n",
      "max    252.000000\n",
      "\n",
      "NO CAFFIENE \n",
      "              Taps\n",
      "count   10.000000\n",
      "mean   244.800000\n",
      "std      2.394438\n",
      "min    242.000000\n",
      "25%    242.500000\n",
      "50%    244.500000\n",
      "75%    246.750000\n",
      "max    248.000000\n",
      "\n",
      "Difference in the median:  3.5\n"
     ]
    },
    {
     "data": {
      "text/plain": [
       "<matplotlib.text.Text at 0x112657cf8>"
      ]
     },
     "execution_count": 2,
     "metadata": {},
     "output_type": "execute_result"
    },
    {
     "data": {
      "image/png": "[encoded data removed]",
      "text/plain": [
       "<matplotlib.figure.Figure at 0x11261ddd8>"
      ]
     },
     "metadata": {},
     "output_type": "display_data"
    }
   ],
   "source": [
    "# Reading the caffeine taps data\n",
    "df1 = pd.read_csv('CaffeineTaps.csv', index_col = 0)\n",
    "caffiene_data = df1[df1.Group=='Caffeine']\n",
    "no_caffiene_data = df1[df1.Group=='NoCaffeine']\n",
    "diff_median = caffiene_data.Taps.median() - no_caffiene_data.Taps.median()\n",
    "\n",
    "print(\"CAFFIENE\", '\\n', caffiene_data.describe())\n",
    "print(\"\\nNO CAFFIENE\", '\\n', no_caffiene_data.describe())\n",
    "print(\"\\nDifference in the median: \", diff_median)\n",
    "\n",
    "ax = df1.Taps.plot.hist(bins= 7, color='orange')\n",
    "ax.set_xlabel(\"Number of taps\")"
   ]
  },
  {
   "cell_type": "markdown",
   "metadata": {},
   "source": [
    "The difference in median values between the caffiene and no-caffiene samples is 3.5. To determine the probability that this difference arose by chance, we find a distribution of the values of median differences that could arise by chance under the null hypothesis that the median number of taps is no more variable when a person has consumed caffeinated drinks than when they have not. \n",
    "\n",
    "We calculate the p-value i.e. the probability of obtaining a difference in median at least as large as observed at random, if the two samples did come from the same population."
   ]
  },
  {
   "cell_type": "code",
   "execution_count": 3,
   "metadata": {
    "collapsed": false
   },
   "outputs": [],
   "source": [
    "def randomization_sample(data, K=1000, N1=10, N2=10):\n",
    "    sampling_dist = []\n",
    "    samples = pd.DataFrame()\n",
    "    \n",
    "    for i in range(K):\n",
    "        shuffled_data = data.tolist()\n",
    "        \n",
    "        # Shuffling the data to sample without replacement\n",
    "        shuffle(shuffled_data)\n",
    "        \n",
    "        s1 = pd.Series(shuffled_data[:10]) \n",
    "        s2 = pd.Series(shuffled_data[10:]) \n",
    "        \n",
    "        samples = samples.append(pd.Series(shuffled_data), ignore_index=True)\n",
    "        \n",
    "        # Using difference between the two sample median values\n",
    "        sampling_dist.append(s1.median() - s2.median())\n",
    "        \n",
    "    print(samples.head(3))\n",
    "    return pd.Series(sampling_dist)"
   ]
  },
  {
   "cell_type": "code",
   "execution_count": 4,
   "metadata": {
    "collapsed": false
   },
   "outputs": [
    {
     "name": "stdout",
     "output_type": "stream",
     "text": [
      "\n",
      "FIRST 3 RANDOMIZED SAMPLES (at K=1000, N1=10, N2=10)\n",
      "      0      1      2      3      4      5      6      7      8      9   \\\n",
      "0  248.0  248.0  244.0  252.0  250.0  242.0  246.0  244.0  245.0  245.0   \n",
      "1  248.0  250.0  250.0  250.0  246.0  242.0  246.0  248.0  242.0  248.0   \n",
      "2  250.0  242.0  248.0  250.0  242.0  244.0  252.0  245.0  244.0  248.0   \n",
      "\n",
      "      10     11     12     13     14     15     16     17     18     19  \n",
      "0  247.0  246.0  242.0  250.0  248.0  246.0  242.0  250.0  248.0  248.0  \n",
      "1  244.0  252.0  242.0  246.0  245.0  244.0  248.0  248.0  247.0  245.0  \n",
      "2  248.0  246.0  245.0  248.0  248.0  250.0  246.0  242.0  246.0  247.0  \n",
      "\n",
      "SUMMARY STATS ON DISTRIBUTION OF SAMPLES MEDIAN DIFFERENCE\n",
      "count    1000.000000\n",
      "mean       -0.046500\n",
      "std         1.789075\n",
      "min        -3.500000\n",
      "25%        -2.000000\n",
      "50%         0.000000\n",
      "75%         1.500000\n",
      "max         3.500000\n",
      "dtype: float64\n"
     ]
    },
    {
     "data": {
      "text/plain": [
       "<matplotlib.text.Text at 0x11261d0b8>"
      ]
     },
     "execution_count": 4,
     "metadata": {},
     "output_type": "execute_result"
    },
    {
     "data": {
      "image/png": "[encoded data removed]",
      "text/plain": [
       "<matplotlib.figure.Figure at 0x10d5d4dd8>"
      ]
     },
     "metadata": {},
     "output_type": "display_data"
    }
   ],
   "source": [
    "print(\"\\nFIRST 3 RANDOMIZED SAMPLES (at K=1000, N1=10, N2=10)\")\n",
    "randomized_diff_sample_medians = randomization_sample(df1.Taps)\n",
    "\n",
    "print(\"\\nSUMMARY STATS ON DISTRIBUTION OF SAMPLES MEDIAN DIFFERENCE\")\n",
    "print(randomized_diff_sample_medians.describe())\n",
    "\n",
    "ax = randomized_diff_sample_medians.plot.hist(bins=7, color='teal')\n",
    "ax.set_xlabel(\"Difference in medians\")"
   ]
  },
  {
   "cell_type": "code",
   "execution_count": 5,
   "metadata": {
    "collapsed": false
   },
   "outputs": [
    {
     "name": "stdout",
     "output_type": "stream",
     "text": [
      "Critical Values: -3.0 , 2.5124999999999886 Sample Result (Test statistic θ - Median difference): 3.5 p: 0.021\n"
     ]
    }
   ],
   "source": [
    "c1 = randomized_diff_sample_medians.quantile(0.025)\n",
    "c2 = randomized_diff_sample_medians.quantile(0.975)\n",
    "\n",
    "p = len(randomized_diff_sample_medians.abs()[lambda x: x >= math.fabs(diff_median)])/len(randomized_diff_sample_medians)\n",
    "\n",
    "print(\"Critical Values:\", c1, \",\", c2, \"Sample Result (Test statistic θ - Median difference):\", diff_median, \"p:\", p)"
   ]
  },
  {
   "cell_type": "markdown",
   "metadata": {},
   "source": [
    "To obtain the p-value, we find the proportion of absolute randomized differences that are greater than or equal to the observed difference. The value is found to be smaller than the significance level of 0.05.\n",
    "\n",
    "Also, the observed value of median difference falls outside the acceptance region. Hence we can reject the null hypothesis."
   ]
  },
  {
   "cell_type": "markdown",
   "metadata": {},
   "source": [
    "### 2. Bootstrapping on body fat data\n",
    "\n",
    "\n",
    "H0: median = 13.5\n",
    "\n",
    "H1: median != 13.5 "
   ]
  },
  {
   "cell_type": "code",
   "execution_count": 6,
   "metadata": {
    "collapsed": false
   },
   "outputs": [
    {
     "name": "stdout",
     "output_type": "stream",
     "text": [
      "count    100.000000\n",
      "mean      18.601000\n",
      "std        8.006683\n",
      "min        3.700000\n",
      "25%       12.375000\n",
      "50%       18.950000\n",
      "75%       24.575000\n",
      "max       40.100000\n",
      "Name: Bodyfat, dtype: float64\n"
     ]
    },
    {
     "data": {
      "text/plain": [
       "<matplotlib.text.Text at 0x115b4aef0>"
      ]
     },
     "execution_count": 6,
     "metadata": {},
     "output_type": "execute_result"
    },
    {
     "data": {
      "image/png": "[encoded data removed]",
      "text/plain": [
       "<matplotlib.figure.Figure at 0x115b52748>"
      ]
     },
     "metadata": {},
     "output_type": "display_data"
    }
   ],
   "source": [
    "# Reading the body fat data\n",
    "df2 = pd.read_csv('BodyFat.csv', index_col = 0)\n",
    "\n",
    "body_fat = df2.Bodyfat\n",
    "print(body_fat.describe())\n",
    "\n",
    "ax = body_fat.plot.hist(bins= 8, color='green')\n",
    "ax.set_xlabel(\"Body fat %\")"
   ]
  },
  {
   "cell_type": "code",
   "execution_count": 7,
   "metadata": {
    "collapsed": false
   },
   "outputs": [],
   "source": [
    "def bootstrap_sample(data, K=5000, N=20):\n",
    "    samples = pd.DataFrame()\n",
    "    sampling_dist = []\n",
    "    \n",
    "    for i in range(K):\n",
    "        \n",
    "        # Sampling with replacement\n",
    "        sample = pd.Series(np.random.choice(data, N, replace=True))\n",
    "        samples = samples.append(sample, ignore_index=True)\n",
    "        \n",
    "        # Using sample's median values\n",
    "        sampling_dist.append(sample.median())\n",
    "        \n",
    "    print(samples.head(3))\n",
    "    return pd.Series(sampling_dist)"
   ]
  },
  {
   "cell_type": "code",
   "execution_count": 8,
   "metadata": {
    "collapsed": false
   },
   "outputs": [
    {
     "name": "stdout",
     "output_type": "stream",
     "text": [
      "\n",
      "FIRST 3 BOOTSTRAPPED SAMPLES (at K=5000, N=20)\n",
      "     0     1     2     3     4     5     6     7     8     9     10    11  \\\n",
      "0  11.8  10.6   8.0  25.2  29.4  29.4  14.7  26.0  22.1  16.5  25.3  27.2   \n",
      "1  31.9  16.5  25.3  24.2   7.8  19.1  20.8  16.0  19.6  22.4  14.8  16.9   \n",
      "2   9.4  20.8  18.2  27.0  27.2  16.0  10.3  26.7  14.8  32.8  24.8  19.6   \n",
      "\n",
      "     12    13    14    15    16    17    18    19  \n",
      "0  22.0  22.6  23.3  19.3  31.6  18.8   8.8   6.3  \n",
      "1  32.3  26.7   9.9  31.9  18.2  40.1  18.2  11.5  \n",
      "2  32.3  22.5  21.3   9.4  27.0  27.2  11.3  12.3  \n",
      "\n",
      "SUMMARY STATS ON DISTRIBUTION OF SAMPLE MEDIANS\n",
      "count    5000.000000\n",
      "mean       18.743370\n",
      "std         2.494873\n",
      "min        10.300000\n",
      "25%        16.950000\n",
      "50%        18.900000\n",
      "75%        20.600000\n",
      "max        26.750000\n",
      "dtype: float64\n",
      "\n",
      "NORMAL APPROXIMATION METHOD\n",
      "Standard error:  2.4948734280087983\n",
      "Critical Values: 9.39629839315 , 17.6037016068\n",
      "Two-tailed boundary: 1.64485362695 Z: 2.1016577198406576 p: 0.0177916348812\n",
      "\n",
      "SHIFT METHOD\n",
      "Median shift:  -5.2433700000000165\n",
      "Critical Values: 8.506629999999983 , 18.056629999999984\n",
      "Sample result: 18.743370000000017 p: 0.0296\n"
     ]
    },
    {
     "data": {
      "image/png": "[encoded data removed]",
      "text/plain": [
       "<matplotlib.figure.Figure at 0x115b52080>"
      ]
     },
     "metadata": {},
     "output_type": "display_data"
    }
   ],
   "source": [
    "print(\"\\nFIRST 3 BOOTSTRAPPED SAMPLES (at K=5000, N=20)\")\n",
    "body_fat_sampled_medians = bootstrap_sample(body_fat)\n",
    "\n",
    "print(\"\\nSUMMARY STATS ON DISTRIBUTION OF SAMPLE MEDIANS\")\n",
    "print(body_fat_sampled_medians.describe())\n",
    "\n",
    "s_h0_median = 13.5\n",
    "s_boot_median = body_fat_sampled_medians.mean()\n",
    "\n",
    "# Using the Normal approximation method\n",
    "print(\"\\nNORMAL APPROXIMATION METHOD\")\n",
    "\n",
    "standard_error = body_fat_sampled_medians.std()\n",
    "z = (s_boot_median - s_h0_median) / standard_error\n",
    "\n",
    "critical_value1 = (stats.norm.ppf(0.05) * standard_error) + s_h0_median\n",
    "critical_value2 = (stats.norm.ppf(0.95) * standard_error) + s_h0_median\n",
    "print(\"Standard error: \", standard_error)\n",
    "print(\"Critical Values:\", critical_value1, \",\", critical_value2)\n",
    "print(\"Two-tailed boundary:\", stats.norm.ppf(0.95), \"Z:\", z, \"p:\", stat.norm.sf(abs(z)))\n",
    "\n",
    "# Using the Shift method to balance the bootstrap (on the H0 median)\n",
    "print(\"\\nSHIFT METHOD\")\n",
    "\n",
    "median_shift = s_h0_median - s_boot_median\n",
    "body_fat_sampled_medians_shifted = body_fat_sampled_medians + median_shift\n",
    "      \n",
    "ax = body_fat_sampled_medians.plot.hist(color='blue')\n",
    "ax.set_xlabel(\"Sample medians\")\n",
    "ax.set_title(\"Bootstrapped\")\n",
    "\n",
    "body_fat_sampled_medians_shifted.plot.hist(color='orange')\n",
    "ax.set_xlabel(\"Sample medians\")\n",
    "ax.legend([\"Original\", \"Shifted\"])\n",
    "\n",
    "c1 = body_fat_sampled_medians_shifted.quantile(0.025)\n",
    "c2 = body_fat_sampled_medians_shifted.quantile(0.975)\n",
    "\n",
    "sum_val = len(body_fat_sampled_medians_shifted[lambda x: x>s_boot_median]) + len(body_fat_sampled_medians_shifted[lambda x: x<(s_h0_median+median_shift)])\n",
    "p = sum_val/len(body_fat_sampled_medians_shifted) \n",
    "\n",
    "print(\"Median shift: \", median_shift)\n",
    "print(\"Critical Values:\", c1, \",\",  c2)\n",
    "print(\"Sample result:\", s_boot_median, \"p:\", p)"
   ]
  },
  {
   "cell_type": "markdown",
   "metadata": {},
   "source": []
  },
  {
   "cell_type": "markdown",
   "metadata": {},
   "source": [
    "The critical values are calculated for a one-tailed test at α=0.05\n",
    "\n",
    "For the Normal approximation method, a Z-test is run. We can reject H0 if Z >= 1.645, which is true in this case as Z= 2.101\n",
    "\n",
    "By the Shift method, our sample result=18.743 is greater than the critical value 18.057 and falls in the rejection region. \n",
    "\n",
    "By both methods, we observe that the p-value is < α=0.05 i.e the probability of attaining this result by chance under H0 is less than the significance level. Hence we can reject the null hypothesis."
   ]
  },
  {
   "cell_type": "markdown",
   "metadata": {},
   "source": [
    "### 3. Bootstrapping on caffeine vs. sleep word memory  data\n",
    "\n",
    "H0: mean_words_coffee = mean_words_sleep\n",
    "\n",
    "H1: mean_words_coffee != mean_words_sleep"
   ]
  },
  {
   "cell_type": "code",
   "execution_count": 9,
   "metadata": {
    "collapsed": false
   },
   "outputs": [
    {
     "name": "stdout",
     "output_type": "stream",
     "text": [
      "CAFFIENE \n",
      "            Words\n",
      "count  12.000000\n",
      "mean   12.250000\n",
      "std     3.545163\n",
      "min     6.000000\n",
      "25%    10.000000\n",
      "50%    12.500000\n",
      "75%    14.250000\n",
      "max    18.000000\n",
      "\n",
      "SLEEP \n",
      "           Words\n",
      "count  12.00000\n",
      "mean   15.25000\n",
      "std     3.30633\n",
      "min     9.00000\n",
      "25%    13.75000\n",
      "50%    15.50000\n",
      "75%    17.25000\n",
      "max    21.00000\n",
      "\n",
      "diff_mean -3.0\n"
     ]
    }
   ],
   "source": [
    "# Reading the sleep caffeine data\n",
    "df3 = pd.read_csv('SleepCaffeine.csv', index_col = 0)\n",
    "\n",
    "caff_data = df3[df3.Group=='Caffeine']\n",
    "sleep_data = df3[df3.Group=='Sleep']\n",
    "\n",
    "diff_mean = caff_data.Words.mean() - sleep_data.Words.mean()\n",
    "\n",
    "print(\"CAFFIENE\", '\\n', caff_data.describe())\n",
    "print(\"\\nSLEEP\", '\\n', sleep_data.describe())\n",
    "print(\"\\ndiff_mean\", diff_mean)"
   ]
  },
  {
   "cell_type": "markdown",
   "metadata": {},
   "source": [
    "The difference in mean values between the caffiene and sleep samples, diff_mean, is -3.0. To determine the probability that this difference arose by chance, we find a distribution of the values of diff_mean that could arise by chance under the null hypothesis that the mean number of words is no more variable under caffiene than sleep."
   ]
  },
  {
   "cell_type": "code",
   "execution_count": 10,
   "metadata": {
    "collapsed": false
   },
   "outputs": [],
   "source": [
    "def bootstrap_two_sample(data, N1, N2, K=5000):\n",
    "    '''\n",
    "    Using merged sample data to avoid having to do shift/normal approximation\n",
    "    '''\n",
    "    sampling_dist = []\n",
    "    samples1 = pd.DataFrame()\n",
    "    samples2 = pd.DataFrame()\n",
    "    \n",
    "    for i in range(K):\n",
    "        \n",
    "        # Sampling with replacement on the merged data\n",
    "        sample1 = pd.Series(np.random.choice(data, N1, replace=True))\n",
    "        sample2 = pd.Series(np.random.choice(data, N2, replace=True))\n",
    "        \n",
    "        samples1 = samples1.append(sample1, ignore_index=True).astype(int)\n",
    "        samples2 = samples2.append(sample2, ignore_index=True).astype(int)\n",
    "        \n",
    "        # Using difference between the two sample mean values\n",
    "        sampling_dist.append(sample1.mean()-sample2.mean())\n",
    "        \n",
    "    print(samples1.head(3),'\\n')\n",
    "    print(samples2.head(3))\n",
    "    \n",
    "    return pd.Series(sampling_dist)"
   ]
  },
  {
   "cell_type": "code",
   "execution_count": 11,
   "metadata": {
    "collapsed": false
   },
   "outputs": [
    {
     "name": "stdout",
     "output_type": "stream",
     "text": [
      "\n",
      "FIRST 3 BOOTSTRAPPED SAMPLES for caffiene and sleep (at K=5000)\n",
      "   0   1   2   3   4   5   6   7   8   9   10  11\n",
      "0  17  21   9  13  17   7   7  17  12  15  12  15\n",
      "1  14  15  18  14  14  13   7  14  17  14  14  11\n",
      "2   9  10  15  16   7  10  16  12  14   6   6  10 \n",
      "\n",
      "   0   1   2   3   4   5   6   7   8   9   10  11\n",
      "0  13  15  10  11  18  10   9   6  18   6  14  21\n",
      "1  11   9   6  21   9  14  12  14  16  16  13  16\n",
      "2  16   6  12  17  18  16  21  14   9   6  21  14\n",
      "\n",
      "SUMMARY STATS ON DISTRIBUTION OF SAMPLES MEAN DIFFERENCE\n",
      "count    5000.000000\n",
      "mean       -0.021250\n",
      "std         1.470682\n",
      "min        -5.500000\n",
      "25%        -1.000000\n",
      "50%         0.000000\n",
      "75%         1.000000\n",
      "max         5.083333\n",
      "dtype: float64\n",
      "Critical Values: -2.9187500000000006 , 2.833333333333334 \n",
      "Sample Result (Test statistic θ - Mean difference): -3.0 p: 0.0452\n"
     ]
    },
    {
     "data": {
      "image/png": "[encoded data removed]",
      "text/plain": [
       "<matplotlib.figure.Figure at 0x115b39b70>"
      ]
     },
     "metadata": {},
     "output_type": "display_data"
    }
   ],
   "source": [
    "print(\"\\nFIRST 3 BOOTSTRAPPED SAMPLES for caffiene and sleep (at K=5000)\")\n",
    "\n",
    "# Empirical sampling distribution from hybrid bootstrap-randomization\n",
    "bootstrap_diff_sample_means = bootstrap_two_sample(df3.Words, len(caff_data), len(sleep_data))\n",
    "\n",
    "print(\"\\nSUMMARY STATS ON DISTRIBUTION OF SAMPLES MEAN DIFFERENCE\")\n",
    "print(bootstrap_diff_sample_means.describe())\n",
    "\n",
    "ax = bootstrap_diff_sample_means.plot.hist(bins=7, color='purple')\n",
    "ax.set_xlabel(\"Difference in means\")\n",
    "\n",
    "c1 = bootstrap_diff_sample_means.quantile(0.025)\n",
    "c2 = bootstrap_diff_sample_means.quantile(0.975)\n",
    "\n",
    "p = len(bootstrap_diff_sample_means.abs()[lambda x: x>=math.fabs(diff_mean)])/len(bootstrap_diff_sample_means)\n",
    "\n",
    "print(\"Critical Values:\", c1, \",\", c2, \"\\nSample Result (Test statistic θ - Mean difference):\", diff_mean, \"p:\", p)"
   ]
  },
  {
   "cell_type": "markdown",
   "metadata": {},
   "source": [
    "The Sample Result falls outside the acceptance region and the p-value is lower than the significance level. Hence, we can reject the null hypothesis that the mean number of words for caffiene and sleep are not significantly different."
   ]
  }
 ],
 "metadata": {
  "anaconda-cloud": {},
  "kernelspec": {
   "display_name": "Python [default]",
   "language": "python",
   "name": "python3"
  },
  "language_info": {
   "codemirror_mode": {
    "name": "ipython",
    "version": 3
   },
   "file_extension": ".py",
   "mimetype": "text/x-python",
   "name": "python",
   "nbconvert_exporter": "python",
   "pygments_lexer": "ipython3",
   "version": "3.5.3"
  }
 },
 "nbformat": 4,
 "nbformat_minor": 1
}
