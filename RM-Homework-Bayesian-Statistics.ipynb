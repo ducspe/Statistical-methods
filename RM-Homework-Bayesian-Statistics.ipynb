{
 "cells": [
  {
   "cell_type": "markdown",
   "metadata": {},
   "source": [
    "## Task 3\n",
    "Suppose, you are given the information that a student answered 8 out of 10 yes/no questions correctly"
   ]
  },
  {
   "cell_type": "markdown",
   "metadata": {},
   "source": [
    "- Define the prior"
   ]
  },
  {
   "cell_type": "markdown",
   "metadata": {},
   "source": [
    "#### Hypotheses:\n",
    "A set of nested hypotheses: <br>\n",
    "H0: The correct answers were based on guesses <br>\n",
    "H1: The correct answers were based on knowledge (not guessing)\n",
    "\n",
    "#### Prior: \n",
    "Whether the student is guessing (Group A) or answering based on knowledge (Group B) is assumed to be equally likely. <br>\n",
    "Prior Distribution: Bernoulli(0.5)"
   ]
  },
  {
   "cell_type": "markdown",
   "metadata": {},
   "source": [
    "- Determine the posterior"
   ]
  },
  {
   "cell_type": "markdown",
   "metadata": {},
   "source": [
    "#### Data: \n",
    "8 out of 10 questions were correctly answered by a student (One observation)\n",
    "\n",
    "#### Likelihood:\n",
    "Binomial distribution: n = 10, k = number of correct answers for the student, q = probability of success\n",
    "\n",
    "For Group A (H0): <br>\n",
    "Guesses either Yes or No - <br>\n",
    "q = 0.5 \n",
    "\n",
    "For Group B (H1): <br>\n",
    "Uses knowledge to answer. Could perform better or worse. <br>\n",
    "We can take uniform distribution of success rates for 10 questions over the whole range <br>\n",
    "q ~ Uniform(0, 1)\n",
    "\n",
    "#### Posterior:\n",
    "Estimate success rate for each group for the given data (guessing or not)"
   ]
  },
  {
   "cell_type": "code",
   "execution_count": 1,
   "metadata": {
    "collapsed": true
   },
   "outputs": [],
   "source": [
    "%matplotlib inline\n",
    "import sys\n",
    "import numpy as np\n",
    "sys.path.insert(0,'../code')\n",
    "from thinkbayes import Suite\n",
    "from scipy.stats import binom, uniform\n",
    "from scipy.integrate import quad\n",
    "\n",
    "import matplotlib.pyplot as plt"
   ]
  },
  {
   "cell_type": "code",
   "execution_count": 2,
   "metadata": {
    "collapsed": false
   },
   "outputs": [
    {
     "name": "stdout",
     "output_type": "stream",
     "text": [
      "Posterior Values\n",
      "A 0.325872284398\n",
      "B 0.674127715602\n"
     ]
    }
   ],
   "source": [
    "def integrand(x, k):\n",
    "    return binom.pmf(k, 10, x)\n",
    "\n",
    "class TestPerformance(Suite):\n",
    "\n",
    "    def Likelihood(self, data, hypo):\n",
    "        if hypo == 'A':\n",
    "            return binom.pmf(data, 10, 0.5)\n",
    "        else:\n",
    "            ans, err = quad(integrand, 0, 1, args=(data))\n",
    "            return ans\n",
    "        \n",
    "hypos = ['A', 'B']\n",
    "suite = TestPerformance(hypos)\n",
    "suite.Update(8)\n",
    "\n",
    "print(\"Posterior Values\")\n",
    "suite.Print()"
   ]
  },
  {
   "cell_type": "markdown",
   "metadata": {},
   "source": [
    "- Apply the Savage-Dickey method and provide a plot of the estimation procedure"
   ]
  },
  {
   "cell_type": "code",
   "execution_count": 3,
   "metadata": {
    "collapsed": false
   },
   "outputs": [
    {
     "name": "stdout",
     "output_type": "stream",
     "text": [
      "Bayes Factor\n",
      "0.4833984375\n"
     ]
    }
   ],
   "source": [
    "bayes_factor_AB = suite.Likelihood(8, 'A')/suite.Likelihood(8, 'B')\n",
    "print(\"Bayes Factor\")\n",
    "print(bayes_factor_AB)"
   ]
  },
  {
   "cell_type": "markdown",
   "metadata": {},
   "source": [
    "Value shows anecdotal evidence for Group B i.e. H1"
   ]
  },
  {
   "cell_type": "code",
   "execution_count": 5,
   "metadata": {
    "collapsed": false
   },
   "outputs": [
    {
     "data": {
      "image/png": "[encoded data removed]",
      "text/plain": [
       "<matplotlib.figure.Figure at 0x1147446a0>"
      ]
     },
     "metadata": {},
     "output_type": "display_data"
    }
   ],
   "source": [
    "##### NOT SURE HOW\n",
    "# For the Savage Dickey density ratio, only consider H1 to obtain Bayes Factor - <br>\n",
    "# Divide height of posterior by height of prior at 0.5.\n",
    "# Use uniform prior and data 8 (out of 10)\n",
    "\n",
    "### NEEDS TO BE FIXED!\n",
    "# q_vals = np.linspace(0.0, 1.0, 100)\n",
    "# post_vals = []\n",
    "# for q in q_vals:\n",
    "#     post_vals.append(binom.pdf(8, 10, q))\n",
    "    \n",
    "# plt.plot(q_vals, post_vals, color='blue', label='Posterior')\n",
    "# plt.plot(q_vals, uniform.pdf(q_vals), color='green', label='Prior')\n",
    "# plt.legend()\n",
    "# plt.show()"
   ]
  },
  {
   "cell_type": "code",
   "execution_count": null,
   "metadata": {
    "collapsed": true
   },
   "outputs": [],
   "source": []
  }
 ],
 "metadata": {
  "anaconda-cloud": {},
  "kernelspec": {
   "display_name": "Python [default]",
   "language": "python",
   "name": "python3"
  },
  "language_info": {
   "codemirror_mode": {
    "name": "ipython",
    "version": 3
   },
   "file_extension": ".py",
   "mimetype": "text/x-python",
   "name": "python",
   "nbconvert_exporter": "python",
   "pygments_lexer": "ipython3",
   "version": "3.5.3"
  }
 },
 "nbformat": 4,
 "nbformat_minor": 1
}
